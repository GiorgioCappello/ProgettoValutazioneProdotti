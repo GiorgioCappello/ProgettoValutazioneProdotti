{
 "cells": [
  {
   "cell_type": "code",
   "execution_count": 56,
   "metadata": {},
   "outputs": [],
   "source": [
    "# Pricing digital option modello CEV con metodo Crank-Nicholson\n",
    "\n",
    "import math as mt\n",
    "import numpy as np"
   ]
  },
  {
   "cell_type": "code",
   "execution_count": 57,
   "metadata": {},
   "outputs": [],
   "source": [
    "## input\n",
    "\n",
    "# mercato\n",
    "r = 0.001\n",
    "S0 = 1\n",
    "K = 1\n",
    "T = 1\n",
    "# calibrazione\n",
    "sigma = 0.4\n",
    "beta = 1.5\n",
    "# discretizzazione\n",
    "M = 1500\n",
    "N = 1000\n",
    "# theta metodo (Crank-Nicholson)\n",
    "theta = 0.5"
   ]
  },
  {
   "cell_type": "code",
   "execution_count": 58,
   "metadata": {},
   "outputs": [
    {
     "name": "stdout",
     "output_type": "stream",
     "text": [
      "[[0.2   ]\n",
      " [0.2012]\n",
      " [0.2024]\n",
      " ...\n",
      " [1.3976]\n",
      " [1.3988]\n",
      " [1.4   ]]\n",
      "0.2\n",
      "0.2\n",
      "1.4\n",
      "1.4\n"
     ]
    }
   ],
   "source": [
    "# griglia\n",
    "\n",
    "Smin = 0.2*S0\n",
    "Smax = 1.4*S0\n",
    "\n",
    "dS = (Smax-Smin)/N\n",
    "dt = T/M\n",
    "\n",
    "# x = np.zeros((N+1,1))\n",
    "S = np.zeros((N+1,1))\n",
    "for i in range(0,N+1):\n",
    "    # x[i,0] = \n",
    "    S[i,0] = Smin + i*dS\n",
    "print(Smin)\n",
    "print(S[0,0])\n",
    "print(Smax)\n",
    "print(S[-1,0])"
   ]
  },
  {
   "cell_type": "code",
   "execution_count": 59,
   "metadata": {},
   "outputs": [],
   "source": [
    "# Costruisco matrice\n",
    "AE = (1-theta)*(-r*S[i,0]/(2*dS) + sigma**2*(S[i,0]**(2*(beta)))/(2*dS**2))\n",
    "A = np.zeros((N+1,N+1))\n",
    "A[0,0]=1\n",
    "for i in range(1,N):\n",
    "    A[i,i-1] = (1-theta)*(-(r*S[i,0])/(2*dS) + sigma**2/(2*dS**2)*(S[i,0]**(2*(beta))))     # alpha\n",
    "    A[i,i] = -1/dt + (1-theta)*(-sigma**2/(dS**2)*(S[i,0]**(2*(beta))) - r)                 # omega\n",
    "    A[i,i+1] = (1-theta)*((r*S[i,0])/(2*dS) + sigma**2/(2*dS**2)*(S[i,0]**(2*(beta))))      # gamma\n",
    "A[-1,-1] = 1\n",
    "\n",
    "# Matrice rhs\n",
    "B = np.zeros((N+1,N+1))\n",
    "for i in range(1,N):\n",
    "    B[i,i-1] = (-theta)*(-(r*S[i,0])/(2*dS) + sigma**2/(2*dS**2)*(S[i,0]**(2*(beta))))\n",
    "    B[i,i] = -1/dt+(-theta)*(1-theta)*(-sigma**2/(dS**2)*(S[i,0]**(2*(beta))) - r)\n",
    "    B[i,i+1] = (-theta)*((r*S[i,0])/(2*dS) + sigma**2/(2*dS**2)*(S[i,0]**(2*(beta)))) \n"
   ]
  },
  {
   "cell_type": "code",
   "execution_count": 60,
   "metadata": {},
   "outputs": [
    {
     "data": {
      "text/plain": [
       "[<matplotlib.lines.Line2D at 0x204ca7848d0>]"
      ]
     },
     "execution_count": 60,
     "metadata": {},
     "output_type": "execute_result"
    },
    {
     "data": {
      "image/png": "[encoded data removed]",
      "text/plain": [
       "<Figure size 640x480 with 1 Axes>"
      ]
     },
     "metadata": {},
     "output_type": "display_data"
    }
   ],
   "source": [
    "# Condizione finale\n",
    "\n",
    "f = np.zeros((N+1,1))\n",
    "for i in range(0,N+1):\n",
    "    f[i,0] = 1 if (S[i,0]>K) else 0  \n",
    "\n",
    "from matplotlib import pyplot as plt\n",
    "plt.plot(S,f)"
   ]
  },
  {
   "cell_type": "code",
   "execution_count": 61,
   "metadata": {},
   "outputs": [
    {
     "data": {
      "text/plain": [
       "[<matplotlib.lines.Line2D at 0x204ca5d1390>]"
      ]
     },
     "execution_count": 61,
     "metadata": {},
     "output_type": "execute_result"
    },
    {
     "data": {
      "image/png": "[encoded data removed]",
      "text/plain": [
       "<Figure size 640x480 with 1 Axes>"
      ]
     },
     "metadata": {},
     "output_type": "display_data"
    }
   ],
   "source": [
    "# Backward in time\n",
    "rhs = np.zeros((N+1,1))\n",
    "bc = np.zeros((N+1,1))\n",
    "for j in range(M,0,-1):\n",
    "    # termine noto sistema lineare\n",
    "    bc[0,0] = 0\n",
    "    bc[N,0] = Smax - K*mt.exp(-r*(T-(j-1)*dt))\n",
    "    rhs = np.matmul(B,f)\n",
    "    rhs = np.add(rhs,bc)\n",
    "    # risolvo il sistema lineare\n",
    "    f = np.linalg.solve(A,rhs)\n",
    "plt.plot(S,f)"
   ]
  },
  {
   "cell_type": "code",
   "execution_count": 62,
   "metadata": {},
   "outputs": [
    {
     "name": "stdout",
     "output_type": "stream",
     "text": [
      "nan\n"
     ]
    }
   ],
   "source": [
    "# Calcolare il prezzo\n",
    "S = S.flatten() # da matrice a vettore\n",
    "f = f.flatten()\n",
    "Prezzo = np.interp(S0, S, f)\n",
    "print(Prezzo)"
   ]
  },
  {
   "cell_type": "code",
   "execution_count": 63,
   "metadata": {},
   "outputs": [
    {
     "data": {
      "text/plain": [
       "' \\nCrank-Nicholson è questo test con theta pari a 0.5\\nNella lezione del 30 gennaio ha fatto tutti i conti a mano per il CEV\\n'"
      ]
     },
     "execution_count": 63,
     "metadata": {},
     "output_type": "execute_result"
    }
   ],
   "source": [
    "''' \n",
    "Crank-Nicholson è questo test con theta pari a 0.5\n",
    "Nella lezione del 30 gennaio ha fatto tutti i conti a mano per il CEV\n",
    "'''"
   ]
  }
 ],
 "metadata": {
  "kernelspec": {
   "display_name": "Python 3",
   "language": "python",
   "name": "python3"
  },
  "language_info": {
   "codemirror_mode": {
    "name": "ipython",
    "version": 3
   },
   "file_extension": ".py",
   "mimetype": "text/x-python",
   "name": "python",
   "nbconvert_exporter": "python",
   "pygments_lexer": "ipython3",
   "version": "3.11.2"
  }
 },
 "nbformat": 4,
 "nbformat_minor": 2
}
